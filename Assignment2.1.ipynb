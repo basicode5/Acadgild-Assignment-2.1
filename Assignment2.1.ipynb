{
 "cells": [
  {
   "cell_type": "code",
   "execution_count": 2,
   "metadata": {},
   "outputs": [
    {
     "name": "stdout",
     "output_type": "stream",
     "text": [
      "The even no:s are\n",
      "[2, 4, 6]\n"
     ]
    }
   ],
   "source": [
    "def myfil (fnc,seq) :\n",
    "    l= []\n",
    "    for i in seq:\n",
    "        if fnc(i) and i>0:\n",
    "            l.append(i)\n",
    "    return l\n",
    "\n",
    "print (\"The even no:s are\")\n",
    "print (myfil((lambda x:x%2==0),[1,2,3,4,5,6,0,-2]))"
   ]
  },
  {
   "cell_type": "code",
   "execution_count": null,
   "metadata": {},
   "outputs": [],
   "source": []
  }
 ],
 "metadata": {
  "kernelspec": {
   "display_name": "Python 3",
   "language": "python",
   "name": "python3"
  },
  "language_info": {
   "codemirror_mode": {
    "name": "ipython",
    "version": 3
   },
   "file_extension": ".py",
   "mimetype": "text/x-python",
   "name": "python",
   "nbconvert_exporter": "python",
   "pygments_lexer": "ipython3",
   "version": "3.6.4"
  }
 },
 "nbformat": 4,
 "nbformat_minor": 2
}
